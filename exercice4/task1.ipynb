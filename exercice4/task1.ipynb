{
 "cells": [
  {
   "cell_type": "code",
   "execution_count": 1,
   "metadata": {},
   "outputs": [],
   "source": [
    "import pandas as pd"
   ]
  },
  {
   "cell_type": "code",
   "execution_count": 5,
   "metadata": {},
   "outputs": [
    {
     "name": "stdout",
     "output_type": "stream",
     "text": [
      "   Survived     Sex   Age  Class\n",
      "0         0    male  22.0      3\n",
      "1         1  female  38.0      1\n",
      "2         1  female  26.0      3\n",
      "3         1  female  35.0      1\n",
      "4         0    male  35.0      3\n"
     ]
    }
   ],
   "source": [
    "data = pd.read_csv('data/titanic.csv')\n",
    "df = pd.DataFrame(data)\n",
    "print(df.head())"
   ]
  }
 ],
 "metadata": {
  "kernelspec": {
   "display_name": "Python 3.10.8 64-bit (microsoft store)",
   "language": "python",
   "name": "python3"
  },
  "language_info": {
   "codemirror_mode": {
    "name": "ipython",
    "version": 3
   },
   "file_extension": ".py",
   "mimetype": "text/x-python",
   "name": "python",
   "nbconvert_exporter": "python",
   "pygments_lexer": "ipython3",
   "version": "3.10.8"
  },
  "orig_nbformat": 4,
  "vscode": {
   "interpreter": {
    "hash": "3ee98eadd956075824b408ace7d98eaa0a348fd98992af1d538881b6be9381a2"
   }
  }
 },
 "nbformat": 4,
 "nbformat_minor": 2
}
