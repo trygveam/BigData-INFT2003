{
 "cells": [
  {
   "cell_type": "markdown",
   "metadata": {},
   "source": [
    "a)\n",
    "Load the dataset and display the last 3 lines, to make sure everything is working correctly.\n"
   ]
  },
  {
   "cell_type": "code",
   "execution_count": 216,
   "metadata": {},
   "outputs": [],
   "source": [
    "import pandas as pd\n",
    "from sklearn.model_selection import train_test_split\n",
    "from sklearn import tree\n",
    "from sklearn.tree import DecisionTreeClassifier, DecisionTreeRegressor\n",
    "from sklearn import metrics\n",
    "import math\n",
    "import numpy as np\n",
    "from sklearn.neighbors import KNeighborsClassifier\n",
    "import matplotlib.pyplot as plt"
   ]
  },
  {
   "cell_type": "code",
   "execution_count": 193,
   "metadata": {},
   "outputs": [
    {
     "data": {
      "text/html": [
       "<div>\n",
       "<style scoped>\n",
       "    .dataframe tbody tr th:only-of-type {\n",
       "        vertical-align: middle;\n",
       "    }\n",
       "\n",
       "    .dataframe tbody tr th {\n",
       "        vertical-align: top;\n",
       "    }\n",
       "\n",
       "    .dataframe thead th {\n",
       "        text-align: right;\n",
       "    }\n",
       "</style>\n",
       "<table border=\"1\" class=\"dataframe\">\n",
       "  <thead>\n",
       "    <tr style=\"text-align: right;\">\n",
       "      <th></th>\n",
       "      <th>id</th>\n",
       "      <th>satisfaction_v2</th>\n",
       "      <th>Gender</th>\n",
       "      <th>Customer Type</th>\n",
       "      <th>Age</th>\n",
       "      <th>Type of Travel</th>\n",
       "      <th>Class</th>\n",
       "      <th>Flight Distance</th>\n",
       "      <th>Inflight wifi service</th>\n",
       "      <th>Departure/Arrival time convenient</th>\n",
       "      <th>...</th>\n",
       "      <th>Seat comfort</th>\n",
       "      <th>Inflight entertainment</th>\n",
       "      <th>On-board service</th>\n",
       "      <th>Leg room service</th>\n",
       "      <th>Baggage handling</th>\n",
       "      <th>Checkin service</th>\n",
       "      <th>Inflight service</th>\n",
       "      <th>Cleanliness</th>\n",
       "      <th>Departure Delay in Minutes</th>\n",
       "      <th>Arrival Delay in Minutes</th>\n",
       "    </tr>\n",
       "  </thead>\n",
       "  <tbody>\n",
       "    <tr>\n",
       "      <th>129876</th>\n",
       "      <td>16986</td>\n",
       "      <td>satisfied</td>\n",
       "      <td>Female</td>\n",
       "      <td>Loyal Customer</td>\n",
       "      <td>11</td>\n",
       "      <td>Business travel</td>\n",
       "      <td>Eco</td>\n",
       "      <td>610</td>\n",
       "      <td>5</td>\n",
       "      <td>1</td>\n",
       "      <td>...</td>\n",
       "      <td>5</td>\n",
       "      <td>5</td>\n",
       "      <td>5</td>\n",
       "      <td>4</td>\n",
       "      <td>1</td>\n",
       "      <td>2</td>\n",
       "      <td>5</td>\n",
       "      <td>5</td>\n",
       "      <td>82</td>\n",
       "      <td>65.0</td>\n",
       "    </tr>\n",
       "    <tr>\n",
       "      <th>129877</th>\n",
       "      <td>50316</td>\n",
       "      <td>satisfied</td>\n",
       "      <td>Male</td>\n",
       "      <td>Loyal Customer</td>\n",
       "      <td>46</td>\n",
       "      <td>Business travel</td>\n",
       "      <td>Business</td>\n",
       "      <td>86</td>\n",
       "      <td>1</td>\n",
       "      <td>1</td>\n",
       "      <td>...</td>\n",
       "      <td>5</td>\n",
       "      <td>5</td>\n",
       "      <td>1</td>\n",
       "      <td>3</td>\n",
       "      <td>1</td>\n",
       "      <td>5</td>\n",
       "      <td>2</td>\n",
       "      <td>2</td>\n",
       "      <td>0</td>\n",
       "      <td>0.0</td>\n",
       "    </tr>\n",
       "    <tr>\n",
       "      <th>129878</th>\n",
       "      <td>22333</td>\n",
       "      <td>satisfied</td>\n",
       "      <td>Female</td>\n",
       "      <td>Loyal Customer</td>\n",
       "      <td>35</td>\n",
       "      <td>Business travel</td>\n",
       "      <td>Business</td>\n",
       "      <td>83</td>\n",
       "      <td>1</td>\n",
       "      <td>1</td>\n",
       "      <td>...</td>\n",
       "      <td>5</td>\n",
       "      <td>5</td>\n",
       "      <td>4</td>\n",
       "      <td>4</td>\n",
       "      <td>2</td>\n",
       "      <td>5</td>\n",
       "      <td>5</td>\n",
       "      <td>5</td>\n",
       "      <td>0</td>\n",
       "      <td>0.0</td>\n",
       "    </tr>\n",
       "  </tbody>\n",
       "</table>\n",
       "<p>3 rows × 24 columns</p>\n",
       "</div>"
      ],
      "text/plain": [
       "           id satisfaction_v2  Gender   Customer Type  Age   Type of Travel  \\\n",
       "129876  16986       satisfied  Female  Loyal Customer   11  Business travel   \n",
       "129877  50316       satisfied    Male  Loyal Customer   46  Business travel   \n",
       "129878  22333       satisfied  Female  Loyal Customer   35  Business travel   \n",
       "\n",
       "           Class  Flight Distance  Inflight wifi service  \\\n",
       "129876       Eco              610                      5   \n",
       "129877  Business               86                      1   \n",
       "129878  Business               83                      1   \n",
       "\n",
       "        Departure/Arrival time convenient  ...  Seat comfort  \\\n",
       "129876                                  1  ...             5   \n",
       "129877                                  1  ...             5   \n",
       "129878                                  1  ...             5   \n",
       "\n",
       "        Inflight entertainment  On-board service  Leg room service  \\\n",
       "129876                       5                 5                 4   \n",
       "129877                       5                 1                 3   \n",
       "129878                       5                 4                 4   \n",
       "\n",
       "        Baggage handling  Checkin service  Inflight service  Cleanliness  \\\n",
       "129876                 1                2                 5            5   \n",
       "129877                 1                5                 2            2   \n",
       "129878                 2                5                 5            5   \n",
       "\n",
       "        Departure Delay in Minutes  Arrival Delay in Minutes  \n",
       "129876                          82                      65.0  \n",
       "129877                           0                       0.0  \n",
       "129878                           0                       0.0  \n",
       "\n",
       "[3 rows x 24 columns]"
      ]
     },
     "execution_count": 193,
     "metadata": {},
     "output_type": "execute_result"
    }
   ],
   "source": [
    "data = pd.read_csv('satisfaction.csv')\n",
    "df = pd.DataFrame(data)\n",
    "df.tail(3)"
   ]
  },
  {
   "cell_type": "markdown",
   "metadata": {},
   "source": [
    "b)\n",
    "Find the mean flight distance for all passengers."
   ]
  },
  {
   "cell_type": "code",
   "execution_count": 194,
   "metadata": {},
   "outputs": [
    {
     "name": "stdout",
     "output_type": "stream",
     "text": [
      "1190.295\n"
     ]
    }
   ],
   "source": [
    "sum_flight_distance = df['Flight Distance'].sum()\n",
    "lenght = df['Flight Distance'].shape[0]\n",
    "mean = sum_flight_distance / lenght\n",
    "print(round(mean,3))\n"
   ]
  },
  {
   "cell_type": "markdown",
   "metadata": {},
   "source": [
    "c)\n",
    "Find the mean flight distance for women under the age of 30 years."
   ]
  },
  {
   "cell_type": "code",
   "execution_count": 195,
   "metadata": {},
   "outputs": [
    {
     "name": "stdout",
     "output_type": "stream",
     "text": [
      "1009.3397714393653\n"
     ]
    }
   ],
   "source": [
    "df_30_female_distance = df.loc[(df['Age'] <= 30) & (df['Gender'] == 'Female')]['Flight Distance']\n",
    "mean_30_female_distance = df_30_female_distance.sum() / df_30_female_distance.shape[0]\n",
    "print(mean_30_female_distance)"
   ]
  },
  {
   "cell_type": "markdown",
   "metadata": {},
   "source": [
    "d)\n",
    "Create a line diagram for flights with a departure delay of ten minutes or more, where the departure\n",
    "delay in minutes is on the x-axis, and number of occurrences is on the y-axis"
   ]
  },
  {
   "cell_type": "code",
   "execution_count": 196,
   "metadata": {},
   "outputs": [
    {
     "data": {
      "image/png": "[encoded data removed]",
      "text/plain": [
       "<Figure size 640x480 with 1 Axes>"
      ]
     },
     "metadata": {},
     "output_type": "display_data"
    }
   ],
   "source": [
    "k = df[df['Departure Delay in Minutes'] > 10]\n",
    "pivot = k['Departure Delay in Minutes'].value_counts()\n",
    "pivot_index = pivot.index\n",
    "pivot_values = pivot.values\n",
    "plt.plot(pivot_values,pivot_index)\n",
    "plt.show()\n",
    "\n",
    "# solution with group by\n",
    "# departure_delay_filter = (df['Departure Delay in Minutes'] >= 10)\n",
    "# departure_filtered_df = df[departure_delay_filter]\n",
    "# grouped_df = departure_filtered_df.groupby('Departure Delay in Minutes')\n",
    "# counted = grouped_df.size()\n",
    "\n"
   ]
  },
  {
   "cell_type": "markdown",
   "metadata": {},
   "source": [
    "Create a bar chart showing the distribution of the age of the passengers.\n",
    "Hint: the function size() for \"grouped dataframes\" can be of help here."
   ]
  },
  {
   "cell_type": "code",
   "execution_count": 197,
   "metadata": {},
   "outputs": [
    {
     "data": {
      "image/png": "[encoded data removed]",
      "text/plain": [
       "<Figure size 640x480 with 1 Axes>"
      ]
     },
     "metadata": {},
     "output_type": "display_data"
    }
   ],
   "source": [
    "pivot_age = df.groupby('Age').size()\n",
    "plt.bar(pivot_age.index,pivot_age.values)\n",
    "plt.show()\n"
   ]
  },
  {
   "cell_type": "markdown",
   "metadata": {},
   "source": [
    "f)\n",
    "Assume that gender, customer type, age, type of travel, and flight distance are predictors. Create a\n",
    "decision tree for what class (Business, Eco Plus, Eco) a passenger is likely travel on. How well does\n",
    "the tree predict, and how will deepening the tree affect the prediction error? You may find that the\n",
    "2\n",
    "class «Eco Plus» seems to be missing unless the tree becomes very deep. Can you think of why this\n",
    "is?\n"
   ]
  },
  {
   "cell_type": "code",
   "execution_count": 198,
   "metadata": {},
   "outputs": [
    {
     "name": "stdout",
     "output_type": "stream",
     "text": [
      "              precision    recall  f1-score   support\n",
      "\n",
      "           0       0.74      0.79      0.76     11721\n",
      "           1       0.00      0.00      0.00      1899\n",
      "           2       0.76      0.83      0.79     12356\n",
      "\n",
      "    accuracy                           0.75     25976\n",
      "   macro avg       0.50      0.54      0.52     25976\n",
      "weighted avg       0.69      0.75      0.72     25976\n",
      "\n",
      "Accuracy: 0.749461040960887\n"
     ]
    },
    {
     "name": "stderr",
     "output_type": "stream",
     "text": [
      "C:\\Users\\tryam\\AppData\\Local\\Packages\\PythonSoftwareFoundation.Python.3.10_qbz5n2kfra8p0\\LocalCache\\local-packages\\Python310\\site-packages\\sklearn\\metrics\\_classification.py:1334: UndefinedMetricWarning: Precision and F-score are ill-defined and being set to 0.0 in labels with no predicted samples. Use `zero_division` parameter to control this behavior.\n",
      "  _warn_prf(average, modifier, msg_start, len(result))\n",
      "C:\\Users\\tryam\\AppData\\Local\\Packages\\PythonSoftwareFoundation.Python.3.10_qbz5n2kfra8p0\\LocalCache\\local-packages\\Python310\\site-packages\\sklearn\\metrics\\_classification.py:1334: UndefinedMetricWarning: Precision and F-score are ill-defined and being set to 0.0 in labels with no predicted samples. Use `zero_division` parameter to control this behavior.\n",
      "  _warn_prf(average, modifier, msg_start, len(result))\n",
      "C:\\Users\\tryam\\AppData\\Local\\Packages\\PythonSoftwareFoundation.Python.3.10_qbz5n2kfra8p0\\LocalCache\\local-packages\\Python310\\site-packages\\sklearn\\metrics\\_classification.py:1334: UndefinedMetricWarning: Precision and F-score are ill-defined and being set to 0.0 in labels with no predicted samples. Use `zero_division` parameter to control this behavior.\n",
      "  _warn_prf(average, modifier, msg_start, len(result))\n"
     ]
    }
   ],
   "source": [
    "df['Gender'].replace('Female', 0, inplace=True)\n",
    "df['Gender'].replace('Male', 1, inplace=True)\n",
    "df['Customer Type'].replace('disloyal Customer', 0, inplace=True)\n",
    "df['Customer Type'].replace('Loyal Customer', 1, inplace=True)\n",
    "df['Type of Travel'].replace('Personal Travel',0,inplace=True)\n",
    "df['Type of Travel'].replace('Business travel',1,inplace=True)\n",
    "df['Class'].replace('Eco',0,inplace=True)\n",
    "df['Class'].replace('Eco Plus',1,inplace=True)\n",
    "df['Class'].replace('Business',2,inplace=True)\n",
    "\n",
    "features = ['Gender','Customer Type','Age','Type of Travel','Flight Distance']\n",
    "X = df[features]\n",
    "y = df['Class']\n",
    "X_train, X_test, y_train, y_test = train_test_split(X, y, test_size=0.2, random_state=1)\n",
    "classifier = DecisionTreeClassifier(min_impurity_decrease=0.01)\n",
    "classifier.fit(X_train,y_train)\n",
    "y_pred = classifier.predict(X_test)\n",
    "print(metrics.classification_report(y_test,y_pred))\n",
    "print(\"Accuracy:\",metrics.accuracy_score(y_test, y_pred))"
   ]
  },
  {
   "cell_type": "code",
   "execution_count": 199,
   "metadata": {},
   "outputs": [],
   "source": [
    "dotfile = open(\"./dtree1.dot\", \"w\")\n",
    "tree.export_graphviz(classifier, out_file=dotfile, feature_names=features,class_names=['Gender','Customer Type','Age','Type of Travel','Flight Distance'])\n",
    "dotfile.close()"
   ]
  },
  {
   "cell_type": "markdown",
   "metadata": {},
   "source": [
    "g)\n",
    "Are passengers traveling business class more or less likely to be satisfied than passengers traveling on\n",
    "Eco or Eco Plus? Create a regression tree which shows this."
   ]
  },
  {
   "cell_type": "code",
   "execution_count": 200,
   "metadata": {},
   "outputs": [],
   "source": [
    "\n",
    "# df['satisfaction_v2'].unique()\n",
    "# df['satisfaction_v2'].replace('satisfied',1,inplace=True)\n",
    "# df['satisfaction_v2'].replace('neutral',0,inplace=True)\n",
    "# df['satisfaction_v2'].replace('dissatisfied',0,inplace=True)\n",
    "# df['Class'].replace('Eco',0,inplace=True)\n",
    "# df['Class'].replace('Eco Plus',0,inplace=True)\n",
    "# df['Class'].replace('Business',1,inplace=True)\n",
    "# X =df['Class']\n",
    "# y = df['satisfaction_v2']\n",
    "# X_train, X_test, y_train, y_test = train_test_split(X, y, test_size=0.2, random_state=1)\n",
    "# regr = DecisionTreeRegressor(min_impurity_decrease=0.01)\n",
    "# regr.fit(X_train, y_train)\n",
    "# # Test tree\n",
    "# y_pred = regr.predict(X_test)\n",
    "# print(\"Training score: \" + format(regr.score(X_train,y_train)))\n",
    "# print(\"Testing score: \" + format(regr.score(X_test,y_test)))\n",
    "# # Display tree\n",
    "# dotfile = open(\"./dtree3.dot\", 'w')\n",
    "# ditfile = tree.exp\n"
   ]
  },
  {
   "cell_type": "code",
   "execution_count": 201,
   "metadata": {},
   "outputs": [],
   "source": [
    "# df = df[['satisfaction_v2', 'Class']]\n",
    "# y = df['satisfaction_v2']\n",
    "# X = df.drop('satisfaction_v2', axis=1)\n",
    "# # We split the dataset horizontally. We use 20% for testing and 80% for training\n",
    "# X_train, X_test, y_train, y_test = train_test_split(X, y, test_size=0.20)\n",
    "# # Grow tree, using max_depth and/or min_impurity_decrease (mse, Mean Squared Error)\n",
    "# regr = DecisionTreeRegressor(min_impurity_decrease=0.01)\n",
    "# regr.fit(X_train, y_train)\n",
    "# # Test tree\n",
    "# y_pred = regr.predict(X_test)\n",
    "# print(\"Training score: \" + format(regr.score(X_train,y_train)))\n",
    "# print(\"Testing score: \" + format(regr.score(X_test,y_test)))\n",
    "# # Display tree\n",
    "# dotfile = open(\"./dtree3.dot\", 'w')\n",
    "# ditfile = tree.export_graphviz(regr, out_file = dotfile, feature_names = X.columns)\n",
    "# dotfile.close()"
   ]
  },
  {
   "cell_type": "markdown",
   "metadata": {},
   "source": [
    "We assume people of the same gender and age have similar priorities when flying. If a male has been\n",
    "categorized as a loyal customer and have stated being satisfied with his flight, and having given the\n",
    "grade 4 for seat comfort, 5 when grading food or drink, 5 for gate location, 5 for wifi service, 5 for\n",
    "inflight entertainment, and 3 for ease of online booking. Using KNN and assuming a K of 6, how old\n",
    "is he likely to be?"
   ]
  },
  {
   "cell_type": "code",
   "execution_count": 202,
   "metadata": {},
   "outputs": [
    {
     "data": {
      "text/html": [
       "<div>\n",
       "<style scoped>\n",
       "    .dataframe tbody tr th:only-of-type {\n",
       "        vertical-align: middle;\n",
       "    }\n",
       "\n",
       "    .dataframe tbody tr th {\n",
       "        vertical-align: top;\n",
       "    }\n",
       "\n",
       "    .dataframe thead th {\n",
       "        text-align: right;\n",
       "    }\n",
       "</style>\n",
       "<table border=\"1\" class=\"dataframe\">\n",
       "  <thead>\n",
       "    <tr style=\"text-align: right;\">\n",
       "      <th></th>\n",
       "      <th>id</th>\n",
       "      <th>satisfaction_v2</th>\n",
       "      <th>Gender</th>\n",
       "      <th>Customer Type</th>\n",
       "      <th>Age</th>\n",
       "      <th>Type of Travel</th>\n",
       "      <th>Class</th>\n",
       "      <th>Flight Distance</th>\n",
       "      <th>Inflight wifi service</th>\n",
       "      <th>Departure/Arrival time convenient</th>\n",
       "      <th>...</th>\n",
       "      <th>Seat comfort</th>\n",
       "      <th>Inflight entertainment</th>\n",
       "      <th>On-board service</th>\n",
       "      <th>Leg room service</th>\n",
       "      <th>Baggage handling</th>\n",
       "      <th>Checkin service</th>\n",
       "      <th>Inflight service</th>\n",
       "      <th>Cleanliness</th>\n",
       "      <th>Departure Delay in Minutes</th>\n",
       "      <th>Arrival Delay in Minutes</th>\n",
       "    </tr>\n",
       "  </thead>\n",
       "  <tbody>\n",
       "    <tr>\n",
       "      <th>0</th>\n",
       "      <td>117135</td>\n",
       "      <td>satisfied</td>\n",
       "      <td>1</td>\n",
       "      <td>0</td>\n",
       "      <td>56</td>\n",
       "      <td>0</td>\n",
       "      <td>0</td>\n",
       "      <td>369</td>\n",
       "      <td>0</td>\n",
       "      <td>2</td>\n",
       "      <td>...</td>\n",
       "      <td>3</td>\n",
       "      <td>3</td>\n",
       "      <td>1</td>\n",
       "      <td>5</td>\n",
       "      <td>3</td>\n",
       "      <td>3</td>\n",
       "      <td>4</td>\n",
       "      <td>3</td>\n",
       "      <td>0</td>\n",
       "      <td>0.0</td>\n",
       "    </tr>\n",
       "    <tr>\n",
       "      <th>1</th>\n",
       "      <td>72091</td>\n",
       "      <td>satisfied</td>\n",
       "      <td>1</td>\n",
       "      <td>0</td>\n",
       "      <td>49</td>\n",
       "      <td>0</td>\n",
       "      <td>0</td>\n",
       "      <td>2486</td>\n",
       "      <td>0</td>\n",
       "      <td>2</td>\n",
       "      <td>...</td>\n",
       "      <td>3</td>\n",
       "      <td>2</td>\n",
       "      <td>1</td>\n",
       "      <td>1</td>\n",
       "      <td>4</td>\n",
       "      <td>4</td>\n",
       "      <td>3</td>\n",
       "      <td>2</td>\n",
       "      <td>0</td>\n",
       "      <td>0.0</td>\n",
       "    </tr>\n",
       "    <tr>\n",
       "      <th>2</th>\n",
       "      <td>29663</td>\n",
       "      <td>satisfied</td>\n",
       "      <td>1</td>\n",
       "      <td>0</td>\n",
       "      <td>55</td>\n",
       "      <td>0</td>\n",
       "      <td>0</td>\n",
       "      <td>1448</td>\n",
       "      <td>0</td>\n",
       "      <td>3</td>\n",
       "      <td>...</td>\n",
       "      <td>3</td>\n",
       "      <td>3</td>\n",
       "      <td>3</td>\n",
       "      <td>5</td>\n",
       "      <td>3</td>\n",
       "      <td>2</td>\n",
       "      <td>3</td>\n",
       "      <td>3</td>\n",
       "      <td>0</td>\n",
       "      <td>0.0</td>\n",
       "    </tr>\n",
       "  </tbody>\n",
       "</table>\n",
       "<p>3 rows × 24 columns</p>\n",
       "</div>"
      ],
      "text/plain": [
       "       id satisfaction_v2  Gender  Customer Type  Age  Type of Travel  Class  \\\n",
       "0  117135       satisfied       1              0   56               0      0   \n",
       "1   72091       satisfied       1              0   49               0      0   \n",
       "2   29663       satisfied       1              0   55               0      0   \n",
       "\n",
       "   Flight Distance  Inflight wifi service  Departure/Arrival time convenient  \\\n",
       "0              369                      0                                  2   \n",
       "1             2486                      0                                  2   \n",
       "2             1448                      0                                  3   \n",
       "\n",
       "   ...  Seat comfort  Inflight entertainment  On-board service  \\\n",
       "0  ...             3                       3                 1   \n",
       "1  ...             3                       2                 1   \n",
       "2  ...             3                       3                 3   \n",
       "\n",
       "   Leg room service  Baggage handling  Checkin service  Inflight service  \\\n",
       "0                 5                 3                3                 4   \n",
       "1                 1                 4                4                 3   \n",
       "2                 5                 3                2                 3   \n",
       "\n",
       "   Cleanliness  Departure Delay in Minutes  Arrival Delay in Minutes  \n",
       "0            3                           0                       0.0  \n",
       "1            2                           0                       0.0  \n",
       "2            3                           0                       0.0  \n",
       "\n",
       "[3 rows x 24 columns]"
      ]
     },
     "execution_count": 202,
     "metadata": {},
     "output_type": "execute_result"
    }
   ],
   "source": [
    "df.head(3)"
   ]
  },
  {
   "cell_type": "code",
   "execution_count": 209,
   "metadata": {},
   "outputs": [],
   "source": [
    "df['satisfaction_v2'].replace('satisfied',1,inplace=True)\n",
    "df['satisfaction_v2'].replace('neutral',0,inplace=True)\n",
    "df['satisfaction_v2'].replace('dissatisfied',0,inplace=True)\n",
    "df['satisfaction_v2'].replace('neutral or dissatisfied',0,inplace=True)\n",
    "\n",
    "# gender, customer Type, seat, food, gate location, wifi, entertainment, online booking - > age\n",
    "features =['Gender','Customer Type','satisfaction_v2','Seat comfort','Food and drink','Gate location','Inflight wifi service','Inflight entertainment','Ease of Online booking']\n",
    "X = df[features]\n",
    "y = df['Age']\n",
    "k = 6\n",
    "# X_train, X_test, y_train, y_test = train_test_split(X, y, test_size=0.2)\n",
    "# knn = KNeighborsClassifier(n_neighbors=k, metric='euclidean')\n",
    "# knn.fit(X_train, y_train)\n",
    "# predicted_values = knn.predict(X_test)\n",
    "# cm = metrics.confusion_matrix(y_test, predicted_values)\n",
    "# tp,fp,fn,tn = cm[0][0],cm[0][1],cm[1][0],cm[1][1]\n",
    "# accuracy = (tp + tn) / (tp+fp+fn+tn)"
   ]
  },
  {
   "cell_type": "code",
   "execution_count": 210,
   "metadata": {},
   "outputs": [
    {
     "data": {
      "text/plain": [
       "array([1, 0], dtype=int64)"
      ]
     },
     "execution_count": 210,
     "metadata": {},
     "output_type": "execute_result"
    }
   ],
   "source": [
    "X['satisfaction_v2'].unique()"
   ]
  },
  {
   "cell_type": "code",
   "execution_count": 214,
   "metadata": {},
   "outputs": [
    {
     "name": "stdout",
     "output_type": "stream",
     "text": [
      "        Gender  Customer Type  satisfaction_v2  Seat comfort  Food and drink  \\\n",
      "7722         1              1                0             5               5   \n",
      "4873         0              1                0             4               4   \n",
      "11677        1              1                0             5               5   \n",
      "28579        0              1                0             4               4   \n",
      "95056        0              1                1             5               3   \n",
      "...        ...            ...              ...           ...             ...   \n",
      "62599        1              0                1             5               2   \n",
      "46574        0              0                0             4               2   \n",
      "16754        1              1                0             2               2   \n",
      "95242        1              1                1             4               4   \n",
      "109939       0              1                1             5               3   \n",
      "\n",
      "        Gate location  Inflight wifi service  Inflight entertainment  \\\n",
      "7722                4                      1                       5   \n",
      "4873                3                      1                       1   \n",
      "11677               4                      2                       5   \n",
      "28579               4                      3                       5   \n",
      "95056               4                      4                       4   \n",
      "...               ...                    ...                     ...   \n",
      "62599               4                      5                       2   \n",
      "46574               2                      2                       3   \n",
      "16754               1                      2                       2   \n",
      "95242               2                      2                       4   \n",
      "109939              2                      2                       5   \n",
      "\n",
      "        Ease of Online booking  \n",
      "7722                         1  \n",
      "4873                         1  \n",
      "11677                        2  \n",
      "28579                        0  \n",
      "95056                        4  \n",
      "...                        ...  \n",
      "62599                        5  \n",
      "46574                        2  \n",
      "16754                        2  \n",
      "95242                        2  \n",
      "109939                       2  \n",
      "\n",
      "[25976 rows x 9 columns]\n"
     ]
    }
   ],
   "source": [
    "X_train, X_test, y_train, y_test = train_test_split(X, y, test_size=0.2)\n",
    "knn = KNeighborsClassifier(n_neighbors=k, metric='euclidean')\n",
    "knn.fit(X_train, y_train)\n",
    "print(X_test)\n",
    "predicted_values = knn.predict(X_test)\n",
    "cm = metrics.confusion_matrix(y_test, predicted_values)\n",
    "tp,fp,fn,tn = cm[0][0],cm[0][1],cm[1][0],cm[1][1]\n",
    "accuracy = (tp + tn) / (tp+fp+fn+tn)\n"
   ]
  },
  {
   "cell_type": "code",
   "execution_count": 224,
   "metadata": {},
   "outputs": [
    {
     "name": "stdout",
     "output_type": "stream",
     "text": [
      "[32]\n"
     ]
    },
    {
     "name": "stderr",
     "output_type": "stream",
     "text": [
      "C:\\Users\\tryam\\AppData\\Local\\Packages\\PythonSoftwareFoundation.Python.3.10_qbz5n2kfra8p0\\LocalCache\\local-packages\\Python310\\site-packages\\sklearn\\base.py:450: UserWarning: X does not have valid feature names, but KNeighborsClassifier was fitted with feature names\n",
      "  warnings.warn(\n"
     ]
    }
   ],
   "source": [
    "print(knn.predict(np.array([1,1,1,4,5,5,5,5,3]).reshape(1,-1)))"
   ]
  },
  {
   "cell_type": "code",
   "execution_count": 226,
   "metadata": {},
   "outputs": [
    {
     "ename": "InvalidIndexError",
     "evalue": "(slice(None, None, None), 0)",
     "output_type": "error",
     "traceback": [
      "\u001b[1;31m---------------------------------------------------------------------------\u001b[0m",
      "\u001b[1;31mTypeError\u001b[0m                                 Traceback (most recent call last)",
      "File \u001b[1;32m~\\AppData\\Local\\Packages\\PythonSoftwareFoundation.Python.3.10_qbz5n2kfra8p0\\LocalCache\\local-packages\\Python310\\site-packages\\pandas\\core\\indexes\\base.py:3803\u001b[0m, in \u001b[0;36mIndex.get_loc\u001b[1;34m(self, key, method, tolerance)\u001b[0m\n\u001b[0;32m   3802\u001b[0m \u001b[39mtry\u001b[39;00m:\n\u001b[1;32m-> 3803\u001b[0m     \u001b[39mreturn\u001b[39;00m \u001b[39mself\u001b[39;49m\u001b[39m.\u001b[39;49m_engine\u001b[39m.\u001b[39;49mget_loc(casted_key)\n\u001b[0;32m   3804\u001b[0m \u001b[39mexcept\u001b[39;00m \u001b[39mKeyError\u001b[39;00m \u001b[39mas\u001b[39;00m err:\n",
      "File \u001b[1;32m~\\AppData\\Local\\Packages\\PythonSoftwareFoundation.Python.3.10_qbz5n2kfra8p0\\LocalCache\\local-packages\\Python310\\site-packages\\pandas\\_libs\\index.pyx:138\u001b[0m, in \u001b[0;36mpandas._libs.index.IndexEngine.get_loc\u001b[1;34m()\u001b[0m\n",
      "File \u001b[1;32m~\\AppData\\Local\\Packages\\PythonSoftwareFoundation.Python.3.10_qbz5n2kfra8p0\\LocalCache\\local-packages\\Python310\\site-packages\\pandas\\_libs\\index.pyx:144\u001b[0m, in \u001b[0;36mpandas._libs.index.IndexEngine.get_loc\u001b[1;34m()\u001b[0m\n",
      "\u001b[1;31mTypeError\u001b[0m: '(slice(None, None, None), 0)' is an invalid key",
      "\nDuring handling of the above exception, another exception occurred:\n",
      "\u001b[1;31mInvalidIndexError\u001b[0m                         Traceback (most recent call last)",
      "Cell \u001b[1;32mIn[226], line 4\u001b[0m\n\u001b[0;32m      2\u001b[0m cmap \u001b[39m=\u001b[39m sns\u001b[39m.\u001b[39mcubehelix_palette(as_cmap\u001b[39m=\u001b[39m\u001b[39mTrue\u001b[39;00m)\n\u001b[0;32m      3\u001b[0m f, ax \u001b[39m=\u001b[39m plt\u001b[39m.\u001b[39msubplots()\n\u001b[1;32m----> 4\u001b[0m points \u001b[39m=\u001b[39m ax\u001b[39m.\u001b[39mscatter(X_test[:, \u001b[39m0\u001b[39;49m], X_test[:, \u001b[39m1\u001b[39m], c\u001b[39m=\u001b[39mpredicted_values, s\u001b[39m=\u001b[39m\u001b[39m50\u001b[39m, cmap\u001b[39m=\u001b[39mcmap)\n\u001b[0;32m      5\u001b[0m f\u001b[39m.\u001b[39mcolorbar(points)\n\u001b[0;32m      6\u001b[0m plt\u001b[39m.\u001b[39mshow()\n",
      "File \u001b[1;32m~\\AppData\\Local\\Packages\\PythonSoftwareFoundation.Python.3.10_qbz5n2kfra8p0\\LocalCache\\local-packages\\Python310\\site-packages\\pandas\\core\\frame.py:3805\u001b[0m, in \u001b[0;36mDataFrame.__getitem__\u001b[1;34m(self, key)\u001b[0m\n\u001b[0;32m   3803\u001b[0m \u001b[39mif\u001b[39;00m \u001b[39mself\u001b[39m\u001b[39m.\u001b[39mcolumns\u001b[39m.\u001b[39mnlevels \u001b[39m>\u001b[39m \u001b[39m1\u001b[39m:\n\u001b[0;32m   3804\u001b[0m     \u001b[39mreturn\u001b[39;00m \u001b[39mself\u001b[39m\u001b[39m.\u001b[39m_getitem_multilevel(key)\n\u001b[1;32m-> 3805\u001b[0m indexer \u001b[39m=\u001b[39m \u001b[39mself\u001b[39;49m\u001b[39m.\u001b[39;49mcolumns\u001b[39m.\u001b[39;49mget_loc(key)\n\u001b[0;32m   3806\u001b[0m \u001b[39mif\u001b[39;00m is_integer(indexer):\n\u001b[0;32m   3807\u001b[0m     indexer \u001b[39m=\u001b[39m [indexer]\n",
      "File \u001b[1;32m~\\AppData\\Local\\Packages\\PythonSoftwareFoundation.Python.3.10_qbz5n2kfra8p0\\LocalCache\\local-packages\\Python310\\site-packages\\pandas\\core\\indexes\\base.py:3810\u001b[0m, in \u001b[0;36mIndex.get_loc\u001b[1;34m(self, key, method, tolerance)\u001b[0m\n\u001b[0;32m   3805\u001b[0m         \u001b[39mraise\u001b[39;00m \u001b[39mKeyError\u001b[39;00m(key) \u001b[39mfrom\u001b[39;00m \u001b[39merr\u001b[39;00m\n\u001b[0;32m   3806\u001b[0m     \u001b[39mexcept\u001b[39;00m \u001b[39mTypeError\u001b[39;00m:\n\u001b[0;32m   3807\u001b[0m         \u001b[39m# If we have a listlike key, _check_indexing_error will raise\u001b[39;00m\n\u001b[0;32m   3808\u001b[0m         \u001b[39m#  InvalidIndexError. Otherwise we fall through and re-raise\u001b[39;00m\n\u001b[0;32m   3809\u001b[0m         \u001b[39m#  the TypeError.\u001b[39;00m\n\u001b[1;32m-> 3810\u001b[0m         \u001b[39mself\u001b[39;49m\u001b[39m.\u001b[39;49m_check_indexing_error(key)\n\u001b[0;32m   3811\u001b[0m         \u001b[39mraise\u001b[39;00m\n\u001b[0;32m   3813\u001b[0m \u001b[39m# GH#42269\u001b[39;00m\n",
      "File \u001b[1;32m~\\AppData\\Local\\Packages\\PythonSoftwareFoundation.Python.3.10_qbz5n2kfra8p0\\LocalCache\\local-packages\\Python310\\site-packages\\pandas\\core\\indexes\\base.py:5968\u001b[0m, in \u001b[0;36mIndex._check_indexing_error\u001b[1;34m(self, key)\u001b[0m\n\u001b[0;32m   5964\u001b[0m \u001b[39mdef\u001b[39;00m \u001b[39m_check_indexing_error\u001b[39m(\u001b[39mself\u001b[39m, key):\n\u001b[0;32m   5965\u001b[0m     \u001b[39mif\u001b[39;00m \u001b[39mnot\u001b[39;00m is_scalar(key):\n\u001b[0;32m   5966\u001b[0m         \u001b[39m# if key is not a scalar, directly raise an error (the code below\u001b[39;00m\n\u001b[0;32m   5967\u001b[0m         \u001b[39m# would convert to numpy arrays and raise later any way) - GH29926\u001b[39;00m\n\u001b[1;32m-> 5968\u001b[0m         \u001b[39mraise\u001b[39;00m InvalidIndexError(key)\n",
      "\u001b[1;31mInvalidIndexError\u001b[0m: (slice(None, None, None), 0)"
     ]
    },
    {
     "data": {
      "image/png": "[encoded data removed]",
      "text/plain": [
       "<Figure size 640x480 with 1 Axes>"
      ]
     },
     "metadata": {},
     "output_type": "display_data"
    }
   ],
   "source": [
    "import seaborn as sns\n",
    "cmap = sns.cubehelix_palette(as_cmap=True)\n",
    "f, ax = plt.subplots()\n",
    "points = ax.scatter(X_test[:, 0], X_test[:, 1], c=predicted_values, s=50, cmap=cmap)\n",
    "f.colorbar(points)\n",
    "plt.show()"
   ]
  }
 ],
 "metadata": {
  "kernelspec": {
   "display_name": "Python 3.10.8 64-bit (microsoft store)",
   "language": "python",
   "name": "python3"
  },
  "language_info": {
   "codemirror_mode": {
    "name": "ipython",
    "version": 3
   },
   "file_extension": ".py",
   "mimetype": "text/x-python",
   "name": "python",
   "nbconvert_exporter": "python",
   "pygments_lexer": "ipython3",
   "version": "3.10.8"
  },
  "orig_nbformat": 4,
  "vscode": {
   "interpreter": {
    "hash": "3ee98eadd956075824b408ace7d98eaa0a348fd98992af1d538881b6be9381a2"
   }
  }
 },
 "nbformat": 4,
 "nbformat_minor": 2
}
