{
 "cells": [
  {
   "cell_type": "markdown",
   "metadata": {},
   "source": [
    "breast-cancer.csv er et datasett fra UCI som inneholder data (“features”) om det som kalles\n",
    "aspirasjonscytologi/vevsprøver av brystmasse. Dataene er relatert til brystkreft, og hver rad har en\n",
    "klassifikasjon (kolonnen “classes”) for om en vekst/klump er god- eller ondartet. Det er ikke\n",
    "nødvendig å vite den medisinske definisjonen for hver kolonne, siden dette ikke er nødvendig for å\n",
    "utføre oppgaven. Det er nok å ha et overblikk over dataene for å finne ut hva du må gjøre.\n",
    "\n",
    "a) Datasettet er nesten i en brukbar tilstand, men må fremdeles vaskes en liten smule. Hva vil du\n",
    "gjøre for å få datasettet i en tilstand som gjør det skikket for bruk? Implementer dette i kode.\n",
    "\n",
    "b) Implementer en beslutningstreklassifiserer (“decision tree classifier”) for god-/ondartede\n",
    "vekster/klumper basert på det vaskede datasettet ditt. Inkludér klassifikasjonsrapport (“classification\n",
    "report”) og en graphviz-fil ('dot'-fil).\n",
    "\n",
    "c) Når du ser på datasettet, synes du at det virker nødvendig å normalisere dataene før du gror treet?\n",
    "Hvorfor/hvorfor ikke?"
   ]
  },
  {
   "cell_type": "code",
   "execution_count": 22,
   "metadata": {},
   "outputs": [],
   "source": [
    "import pandas as pd\n",
    "from sklearn.model_selection import train_test_split\n",
    "from sklearn import tree\n",
    "from sklearn.tree import DecisionTreeClassifier, DecisionTreeRegressor\n",
    "from sklearn import metrics"
   ]
  },
  {
   "cell_type": "markdown",
   "metadata": {},
   "source": [
    "Reading in csv and converting to dataframe"
   ]
  },
  {
   "cell_type": "code",
   "execution_count": 23,
   "metadata": {},
   "outputs": [],
   "source": [
    "data = pd.read_csv('breast-cancer.csv')\n",
    "df = pd.DataFrame(data)"
   ]
  },
  {
   "cell_type": "markdown",
   "metadata": {},
   "source": [
    "Checking every column for uniques"
   ]
  },
  {
   "cell_type": "code",
   "execution_count": 24,
   "metadata": {},
   "outputs": [
    {
     "name": "stdout",
     "output_type": "stream",
     "text": [
      "[ 5  3  6  4  8  1  2  7 10  9]\n",
      "[ 1  4  8 10  2  3  7  5  6  9]\n",
      "[ 1  4  8 10  2  3  5  6  7  9]\n",
      "[ 1  5  3  8 10  4  6  2  9  7]\n",
      "[ 2  7  3  1  6  4  5  8 10  9]\n",
      "['1' '10' '2' '4' '3' '9' '7' '?' '5' '8' '6']\n",
      "[ 3  9  1  2  4  5  7  8  6 10]\n",
      "[ 1  2  7  4  5  3 10  6  9  8]\n",
      "[ 1  5  4  2  3  7 10  8  6]\n",
      "[0 1]\n"
     ]
    }
   ],
   "source": [
    "columns = df.columns[1:]\n",
    "for x in columns:\n",
    "    print(df[x].unique())"
   ]
  },
  {
   "cell_type": "markdown",
   "metadata": {},
   "source": [
    "See that i have to convert column 7 to numbers and remove the '?', the rest is good."
   ]
  },
  {
   "cell_type": "code",
   "execution_count": 25,
   "metadata": {},
   "outputs": [
    {
     "name": "stdout",
     "output_type": "stream",
     "text": [
      "[ 1 10  2  4  3  9  7  5  8  6]\n"
     ]
    }
   ],
   "source": [
    "# Columns 6 has a ? as value, need to remove this row (s)\n",
    "df[columns[6]].unique()\n",
    "# columns[6] is bare_nuclei, dropping columns\n",
    "df.drop(df[df['bare_nuclei'] == '?'].index, inplace=True)\n",
    "\n",
    "df['bare_nuclei'] = df['bare_nuclei'].astype(int)\n",
    "print(df['bare_nuclei'].unique())\n"
   ]
  },
  {
   "cell_type": "code",
   "execution_count": 28,
   "metadata": {},
   "outputs": [
    {
     "name": "stdout",
     "output_type": "stream",
     "text": [
      "              precision    recall  f1-score   support\n",
      "\n",
      "           0       0.98      0.94      0.96       133\n",
      "           1       0.90      0.97      0.93        72\n",
      "\n",
      "    accuracy                           0.95       205\n",
      "   macro avg       0.94      0.96      0.95       205\n",
      "weighted avg       0.95      0.95      0.95       205\n",
      "\n",
      "Accuracy: 0.9512195121951219\n"
     ]
    }
   ],
   "source": [
    "columns = df.columns[:-1]\n",
    "X = df[columns]\n",
    "y = df['classes']\n",
    "X_train, X_test, y_train, y_test = train_test_split(X, y, test_size=0.3, random_state=1)\n",
    "classifier = DecisionTreeClassifier(min_impurity_decrease=0.01, max_depth=2)\n",
    "classifier.fit(X_train,y_train)\n",
    "y_pred = classifier.predict(X_test)\n",
    "print(metrics.classification_report(y_test,y_pred))\n",
    "print(\"Accuracy:\",metrics.accuracy_score(y_test, y_pred))"
   ]
  },
  {
   "cell_type": "code",
   "execution_count": 27,
   "metadata": {},
   "outputs": [],
   "source": [
    "dotfile = open(\"./dtree1.dot\", \"w\")\n",
    "tree.export_graphviz(classifier, out_file=dotfile, feature_names= columns,class_names=['Sex','Age','Class'])\n",
    "dotfile.close()"
   ]
  }
 ],
 "metadata": {
  "kernelspec": {
   "display_name": "Python 3.10.8 64-bit (microsoft store)",
   "language": "python",
   "name": "python3"
  },
  "language_info": {
   "codemirror_mode": {
    "name": "ipython",
    "version": 3
   },
   "file_extension": ".py",
   "mimetype": "text/x-python",
   "name": "python",
   "nbconvert_exporter": "python",
   "pygments_lexer": "ipython3",
   "version": "3.10.8"
  },
  "orig_nbformat": 4,
  "vscode": {
   "interpreter": {
    "hash": "e0acaf148705ed9ed86cc5cad12259d7985e30670e5686e5f55604a9b3b84a55"
   }
  }
 },
 "nbformat": 4,
 "nbformat_minor": 2
}
